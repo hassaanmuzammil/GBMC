{
 "cells": [
  {
   "cell_type": "code",
   "execution_count": 2,
   "metadata": {
    "button": false,
    "new_sheet": false,
    "run_control": {
     "read_only": false
    }
   },
   "outputs": [],
   "source": [
    "import numpy as np\n",
    "import matplotlib.pyplot as plt\n",
    "import pandas as pd\n",
    "import cv2\n",
    "from PIL import Image\n",
    "from PIL import ImageDraw\n",
    "#import imutils"
   ]
  },
  {
   "cell_type": "markdown",
   "metadata": {
    "button": false,
    "new_sheet": false,
    "run_control": {
     "read_only": false
    }
   },
   "source": [
    "## Making a self color pattern array satsifying all the properties"
   ]
  },
  {
   "cell_type": "code",
   "execution_count": 3,
   "metadata": {
    "button": false,
    "new_sheet": false,
    "run_control": {
     "read_only": false
    }
   },
   "outputs": [
    {
     "data": {
      "text/plain": [
       "array([[0, 0, 0, 0, 0, 0, 0, 0, 0, 0],\n",
       "       [0, 0, 0, 0, 0, 0, 0, 0, 0, 0],\n",
       "       [0, 0, 0, 0, 0, 0, 0, 0, 0, 0],\n",
       "       [0, 0, 0, 0, 0, 0, 0, 0, 0, 0],\n",
       "       [0, 0, 0, 0, 0, 0, 0, 0, 0, 0],\n",
       "       [0, 0, 0, 0, 0, 0, 0, 0, 0, 0],\n",
       "       [0, 0, 0, 0, 0, 0, 0, 0, 0, 0],\n",
       "       [0, 0, 0, 0, 0, 0, 0, 0, 0, 0],\n",
       "       [0, 0, 0, 0, 0, 0, 0, 0, 0, 0],\n",
       "       [0, 0, 0, 0, 0, 0, 0, 0, 0, 0]], dtype=uint64)"
      ]
     },
     "execution_count": 3,
     "metadata": {},
     "output_type": "execute_result"
    }
   ],
   "source": [
    "# Creating random numbers between 0-3\n",
    "pattern_arr=np.zeros((10,10),dtype=np.uint64)\n",
    "\n",
    "rand_nos=np.random.randint(4,size=9)\n",
    "pattern_arr\n",
    " "
   ]
  },
  {
   "cell_type": "markdown",
   "metadata": {
    "button": false,
    "new_sheet": false,
    "run_control": {
     "read_only": false
    }
   },
   "source": [
    "## Defining Circular Shift Invariance"
   ]
  },
  {
   "cell_type": "code",
   "execution_count": 4,
   "metadata": {
    "button": false,
    "new_sheet": false,
    "run_control": {
     "read_only": false
    }
   },
   "outputs": [],
   "source": [
    "count=0\n",
    "def circshiftinvar(arr1,arr2):\n",
    "    matched=False\n",
    "    global no_of_matchings\n",
    "    #for case of 9, same arr is returned after circular shifting for more than 7\n",
    "    for i in range(len(arr1)-1): \n",
    "        firstColor=arr1[0] \n",
    "        tempArr=np.insert(np.roll(arr1[1:],i),0,arr1[0]) #circular wraping the coded array except for 0th index no\n",
    "        if(np.array_equal(tempArr,arr2)):\n",
    "            matched=True\n",
    "            #print(\"Matched found! tempArr is\",tempArr,\"and Array 2 is\",arr2)\n",
    "            no_of_matchings+=1\n",
    "            break\n",
    "     "
   ]
  },
  {
   "cell_type": "markdown",
   "metadata": {
    "button": false,
    "new_sheet": false,
    "run_control": {
     "read_only": false
    }
   },
   "source": [
    "## Generating a unique random array"
   ]
  },
  {
   "cell_type": "markdown",
   "metadata": {
    "button": false,
    "new_sheet": false,
    "run_control": {
     "read_only": false
    }
   },
   "source": [
    "## Tell if this array is unique "
   ]
  },
  {
   "cell_type": "code",
   "execution_count": 5,
   "metadata": {
    "button": false,
    "new_sheet": false,
    "run_control": {
     "read_only": false
    }
   },
   "outputs": [],
   "source": [
    "#old_arrs is a 2-D array containing \n",
    "old_arrays=[]\n",
    "no_of_matchings=0\n",
    "def tell_unique_array(random_arr,old_arrs):\n",
    "    for Arr in old_arrs:\n",
    "        circshiftinvar(Arr,random_arr)\n",
    "    if no_of_matchings>0:\n",
    "         return False #False if matched found and the grid is not unique and cannot be used\n",
    "    else:\n",
    "        return True\n",
    "        \n",
    "    "
   ]
  },
  {
   "cell_type": "code",
   "execution_count": 6,
   "metadata": {
    "button": false,
    "new_sheet": false,
    "run_control": {
     "read_only": false
    }
   },
   "outputs": [
    {
     "data": {
      "text/plain": [
       "True"
      ]
     },
     "execution_count": 6,
     "metadata": {},
     "output_type": "execute_result"
    }
   ],
   "source": [
    "#Filling random numbers in the array and keep checking if circularshift invariance is being satisfied\n",
    "tell_unique_array(np.random.randint(4,size=9),old_arrays)"
   ]
  },
  {
   "cell_type": "markdown",
   "metadata": {
    "button": false,
    "new_sheet": false,
    "run_control": {
     "read_only": false
    }
   },
   "source": [
    "## Self Pattern Generator "
   ]
  },
  {
   "cell_type": "code",
   "execution_count": 7,
   "metadata": {
    "button": false,
    "new_sheet": false,
    "run_control": {
     "read_only": false
    }
   },
   "outputs": [],
   "source": [
    "old_arrays=[]\n",
    "def self_pattern_gen(pattern_array):\n",
    "    \n",
    "    #input :a null array of required dimensions\n",
    "    #output: a filled array with random numbers later giving a color pattern with properties satisfied\n",
    "    #old_arrays=[]\n",
    "    for i in range(1,pattern_array.shape[0]-1):\n",
    "         for j in range(1,pattern_array.shape[1]-1):\n",
    "            if(i==1):\n",
    "                if(j==1):\n",
    "                    new_arr=np.random.randint(4,size=9)\n",
    "                    pattern_array[i-1:i+2,j+1]=new_arr[0:3]\n",
    "                    pattern_array[i-1:i+2,j]=new_arr[3:6]\n",
    "                    pattern_array[i-1:i+2,j-1]=new_arr[6:]\n",
    "\n",
    "                    x2,x3,x4 = pattern_array[i-1:i+2,j+1]\n",
    "                    x1,x0,x5 = pattern_array[i-1:i+2,j]\n",
    "                    x8,x7,x6 = pattern_array[i-1:i+2,j-1]\n",
    "                    old_arrays.append(np.array([x0,x1,x2,x3,x4,x5,x6,x7,x8]))\n",
    "                else:\n",
    "                    size=3\n",
    "                    temp_arr=np.random.randint(4,size=3)\n",
    "                    x1,x0,x5 = pattern_array[i-1:i+2,j]\n",
    "                    x8,x7,x6 = pattern_array[i-1:i+2,j-1] #filling in rows with fixed cols(vertically)\n",
    "                    x2,x3,x4 = temp_arr\n",
    "                    random_array=np.array([x0,x1,x2,x3,x4,x5,x6,x7,x8],dtype=np.uint64)\n",
    "                    while(tell_unique_array(random_array,old_arrays)!=True):\n",
    "                        temp_arr=np.random.randint(4,size=3)\n",
    "                        x2,x3,x4 = temp_arr\n",
    "                        random_array=np.array([x0,x1,x2,x3,x4,x5,x6,x7,x8])\n",
    "                    old_arrays.append(random_array)\n",
    "                    pattern_array[i-1:i+2,j+1]=temp_arr    \n",
    "                    #print(np.array(old_arrays))\n",
    "            else:\n",
    "                size=3\n",
    "                temp_arr=np.random.randint(4,size=3)\n",
    "                x8,x1,x2 = pattern_array[i-1,j-1:j+2] #filling in fixed rows horizontally\n",
    "                x7,x0,x3 = pattern_array[i,j-1:j+2]\n",
    "                x6,x5,x4 = temp_arr\n",
    "                random_array=np.array([x0,x1,x2,x3,x4,x5,x6,x7,x8],dtype=np.uint64)\n",
    "\n",
    "                while(tell_unique_array(random_array,old_arrays)!=True):\n",
    "                    temp_arr=np.random.randint(4,size=3)\n",
    "                    x6,x5,x4 = temp_arr\n",
    "                    random_array=np.array([x0,x1,x2,x3,x4,x5,x6,x7,x8])\n",
    "                old_arrays.append(random_array)\n",
    "                pattern_array[i+1,j-1:j+2]=temp_arr\n",
    "    return np.array(old_arrays),pattern_array"
   ]
  },
  {
   "cell_type": "code",
   "execution_count": 8,
   "metadata": {
    "button": false,
    "new_sheet": false,
    "run_control": {
     "read_only": false
    }
   },
   "outputs": [],
   "source": [
    "hello,my_patterns=self_pattern_gen(pattern_arr)"
   ]
  },
  {
   "cell_type": "code",
   "execution_count": 9,
   "metadata": {
    "button": false,
    "new_sheet": false,
    "run_control": {
     "read_only": false
    }
   },
   "outputs": [
    {
     "data": {
      "text/plain": [
       "array([[1, 0, 0, 0, 2, 3, 2, 0, 1, 3],\n",
       "       [0, 3, 3, 0, 1, 3, 1, 2, 1, 0],\n",
       "       [1, 1, 2, 1, 3, 1, 3, 0, 3, 0],\n",
       "       [0, 1, 0, 0, 1, 1, 0, 2, 0, 2],\n",
       "       [3, 0, 2, 0, 2, 2, 2, 2, 2, 1],\n",
       "       [2, 3, 1, 3, 3, 1, 3, 0, 2, 2],\n",
       "       [0, 3, 3, 3, 1, 3, 1, 1, 3, 0],\n",
       "       [3, 2, 1, 1, 1, 1, 2, 0, 0, 1],\n",
       "       [0, 0, 2, 0, 1, 0, 0, 2, 2, 1],\n",
       "       [1, 3, 3, 1, 3, 1, 0, 1, 1, 3]], dtype=uint64)"
      ]
     },
     "execution_count": 9,
     "metadata": {},
     "output_type": "execute_result"
    }
   ],
   "source": [
    "my_patterns"
   ]
  },
  {
   "cell_type": "code",
   "execution_count": 10,
   "metadata": {
    "button": false,
    "new_sheet": false,
    "run_control": {
     "read_only": false
    },
    "scrolled": true
   },
   "outputs": [
    {
     "data": {
      "text/plain": [
       "array([[3, 0, 0, 3, 2, 1, 1, 0, 1],\n",
       "       [3, 0, 0, 0, 1, 2, 1, 3, 0],\n",
       "       [0, 0, 2, 1, 3, 1, 2, 3, 0],\n",
       "       [1, 2, 3, 3, 1, 3, 1, 0, 0],\n",
       "       [3, 3, 2, 1, 3, 1, 3, 1, 2],\n",
       "       [1, 2, 0, 2, 0, 3, 1, 3, 3],\n",
       "       [2, 0, 1, 1, 3, 0, 3, 1, 2],\n",
       "       [1, 1, 3, 0, 0, 3, 0, 2, 0],\n",
       "       [1, 3, 3, 2, 3, 2, 0, 1, 0],\n",
       "       [2, 3, 0, 1, 2, 3, 1, 1, 3],\n",
       "       [1, 0, 1, 3, 2, 0, 0, 2, 3],\n",
       "       [3, 1, 3, 1, 0, 3, 0, 1, 0],\n",
       "       [1, 3, 1, 3, 0, 0, 1, 3, 1],\n",
       "       [3, 1, 2, 0, 2, 1, 1, 1, 3],\n",
       "       [0, 2, 1, 3, 3, 2, 0, 3, 1],\n",
       "       [3, 1, 0, 0, 2, 0, 2, 0, 2],\n",
       "       [1, 1, 2, 0, 2, 3, 3, 0, 1],\n",
       "       [0, 2, 1, 0, 2, 2, 0, 1, 1],\n",
       "       [0, 1, 3, 1, 3, 0, 2, 0, 2],\n",
       "       [1, 3, 1, 1, 1, 0, 0, 0, 1],\n",
       "       [1, 1, 3, 0, 2, 3, 2, 1, 3],\n",
       "       [0, 3, 0, 2, 1, 3, 2, 1, 1],\n",
       "       [2, 0, 3, 0, 2, 0, 2, 0, 3],\n",
       "       [0, 3, 0, 2, 1, 2, 2, 2, 0],\n",
       "       [0, 1, 0, 2, 1, 1, 2, 3, 0],\n",
       "       [2, 0, 0, 0, 3, 3, 3, 0, 1],\n",
       "       [0, 0, 1, 2, 0, 2, 1, 2, 0],\n",
       "       [2, 1, 1, 2, 0, 0, 3, 0, 0],\n",
       "       [2, 1, 0, 2, 1, 2, 3, 2, 1],\n",
       "       [2, 0, 2, 2, 0, 1, 1, 2, 1],\n",
       "       [2, 2, 0, 2, 1, 0, 3, 2, 0],\n",
       "       [2, 0, 2, 1, 2, 2, 0, 2, 2],\n",
       "       [3, 0, 2, 1, 2, 0, 0, 2, 3],\n",
       "       [1, 2, 0, 3, 1, 3, 3, 3, 0],\n",
       "       [3, 0, 2, 3, 1, 1, 3, 1, 2],\n",
       "       [3, 2, 2, 1, 2, 1, 3, 3, 0],\n",
       "       [1, 2, 2, 3, 0, 0, 1, 3, 2],\n",
       "       [3, 2, 2, 0, 3, 2, 3, 1, 2],\n",
       "       [0, 2, 2, 2, 0, 0, 1, 3, 2],\n",
       "       [2, 2, 1, 2, 0, 3, 1, 0, 2],\n",
       "       [3, 3, 1, 3, 2, 2, 3, 0, 2],\n",
       "       [3, 1, 3, 3, 2, 2, 2, 3, 3],\n",
       "       [3, 3, 3, 1, 3, 2, 1, 3, 1],\n",
       "       [1, 3, 1, 3, 2, 3, 1, 3, 3],\n",
       "       [3, 1, 3, 1, 2, 3, 1, 1, 3],\n",
       "       [1, 3, 0, 1, 2, 0, 1, 3, 1],\n",
       "       [1, 0, 2, 3, 0, 2, 2, 1, 3],\n",
       "       [3, 2, 2, 0, 1, 0, 0, 1, 0],\n",
       "       [2, 3, 3, 1, 1, 2, 0, 3, 0],\n",
       "       [1, 3, 3, 1, 0, 3, 0, 2, 3],\n",
       "       [1, 3, 1, 1, 3, 1, 2, 1, 3],\n",
       "       [1, 1, 3, 1, 1, 1, 0, 1, 3],\n",
       "       [1, 3, 1, 2, 1, 3, 1, 1, 1],\n",
       "       [2, 1, 1, 0, 2, 3, 0, 1, 3],\n",
       "       [0, 1, 3, 0, 3, 3, 0, 2, 1],\n",
       "       [0, 3, 0, 1, 1, 2, 2, 0, 1],\n",
       "       [0, 2, 1, 2, 2, 1, 1, 0, 3],\n",
       "       [2, 1, 1, 0, 2, 2, 3, 0, 2],\n",
       "       [0, 1, 1, 1, 3, 2, 3, 2, 1],\n",
       "       [1, 1, 1, 0, 0, 0, 1, 0, 1],\n",
       "       [0, 1, 2, 0, 2, 1, 3, 1, 1],\n",
       "       [0, 2, 0, 2, 1, 3, 1, 0, 1],\n",
       "       [2, 0, 0, 2, 2, 0, 0, 0, 2],\n",
       "       [2, 0, 1, 1, 3, 1, 1, 2, 0]], dtype=uint64)"
      ]
     },
     "execution_count": 10,
     "metadata": {},
     "output_type": "execute_result"
    }
   ],
   "source": [
    "hello"
   ]
  },
  {
   "cell_type": "markdown",
   "metadata": {
    "button": false,
    "new_sheet": false,
    "run_control": {
     "read_only": false
    }
   },
   "source": [
    "## Checking If the Generated array Holds Circular Shift Invariance"
   ]
  },
  {
   "cell_type": "code",
   "execution_count": 11,
   "metadata": {
    "button": false,
    "new_sheet": false,
    "run_control": {
     "read_only": false
    }
   },
   "outputs": [
    {
     "name": "stdout",
     "output_type": "stream",
     "text": [
      "64\n"
     ]
    }
   ],
   "source": [
    "no_of_matchings=0\n",
    "for Arr in hello:\n",
    "        for index,j in enumerate(hello):\n",
    "            circshiftinvar(hello[index],Arr)\n",
    "            \n",
    "print(no_of_matchings)"
   ]
  },
  {
   "cell_type": "markdown",
   "metadata": {
    "button": false,
    "new_sheet": false,
    "run_control": {
     "read_only": false
    }
   },
   "source": [
    "## Generating a patterned Image from Self Patterns"
   ]
  },
  {
   "cell_type": "code",
   "execution_count": 12,
   "metadata": {
    "button": false,
    "new_sheet": false,
    "run_control": {
     "read_only": false
    }
   },
   "outputs": [
    {
     "data": {
      "text/plain": [
       "array([[1, 0, 0, 0, 2, 3, 2, 0, 1, 3],\n",
       "       [0, 3, 3, 0, 1, 3, 1, 2, 1, 0],\n",
       "       [1, 1, 2, 1, 3, 1, 3, 0, 3, 0],\n",
       "       [0, 1, 0, 0, 1, 1, 0, 2, 0, 2],\n",
       "       [3, 0, 2, 0, 2, 2, 2, 2, 2, 1],\n",
       "       [2, 3, 1, 3, 3, 1, 3, 0, 2, 2],\n",
       "       [0, 3, 3, 3, 1, 3, 1, 1, 3, 0],\n",
       "       [3, 2, 1, 1, 1, 1, 2, 0, 0, 1],\n",
       "       [0, 0, 2, 0, 1, 0, 0, 2, 2, 1],\n",
       "       [1, 3, 3, 1, 3, 1, 0, 1, 1, 3]], dtype=uint64)"
      ]
     },
     "execution_count": 12,
     "metadata": {},
     "output_type": "execute_result"
    }
   ],
   "source": [
    "my_patterns"
   ]
  },
  {
   "cell_type": "code",
   "execution_count": 13,
   "metadata": {
    "button": false,
    "new_sheet": false,
    "run_control": {
     "read_only": false
    }
   },
   "outputs": [],
   "source": [
    "selfimage = Image.new(size=(400,400),mode='RGB')\n",
    "selfimg_arr=np.array(selfimage)"
   ]
  },
  {
   "cell_type": "markdown",
   "metadata": {
    "button": false,
    "new_sheet": false,
    "run_control": {
     "read_only": false
    }
   },
   "source": [
    "## Drawing A Circle"
   ]
  },
  {
   "cell_type": "code",
   "execution_count": 14,
   "metadata": {
    "button": false,
    "new_sheet": false,
    "run_control": {
     "read_only": false
    }
   },
   "outputs": [],
   "source": [
    "def draw_a_circ(img,r,x,y,fillclr):\n",
    "    draw = ImageDraw.Draw(img)\n",
    "    leftUpPoint = (x-r, y-r)\n",
    "    rightDownPoint = (x+r, y+r)\n",
    "    twoPointList = [leftUpPoint, rightDownPoint]\n",
    "    draw.ellipse(twoPointList, fill=fillclr)"
   ]
  },
  {
   "cell_type": "code",
   "execution_count": 15,
   "metadata": {
    "button": false,
    "new_sheet": false,
    "run_control": {
     "read_only": false
    }
   },
   "outputs": [
    {
     "data": {
      "text/plain": [
       "<matplotlib.image.AxesImage at 0x123d18f10>"
      ]
     },
     "execution_count": 15,
     "metadata": {},
     "output_type": "execute_result"
    },
    {
     "data": {
      "image/png": "[encoded data removed]",
      "text/plain": [
       "<Figure size 432x288 with 1 Axes>"
      ]
     },
     "metadata": {
      "needs_background": "light"
     },
     "output_type": "display_data"
    }
   ],
   "source": [
    "plt.imshow(selfimage)"
   ]
  },
  {
   "cell_type": "markdown",
   "metadata": {
    "button": false,
    "new_sheet": false,
    "run_control": {
     "read_only": false
    }
   },
   "source": [
    "## Return a Color"
   ]
  },
  {
   "cell_type": "code",
   "execution_count": 16,
   "metadata": {
    "button": false,
    "new_sheet": false,
    "run_control": {
     "read_only": false
    }
   },
   "outputs": [],
   "source": [
    "red = (255,0,0) #0\n",
    "blue = (0,0,255)#3\n",
    "green = (0,255,0)#2\n",
    "yellow = (255,255,0)#1\n",
    "black = (0,0,0) #4\n",
    "\n",
    "def return_a_clr(number):\n",
    "    if(number==0):\n",
    "        return red\n",
    "    elif(number==1):\n",
    "        return yellow\n",
    "    elif(number==2):\n",
    "        return green\n",
    "    elif(number==3):\n",
    "        return blue\n",
    "    elif(number==4):\n",
    "        return black"
   ]
  },
  {
   "cell_type": "code",
   "execution_count": 17,
   "metadata": {
    "button": false,
    "new_sheet": false,
    "run_control": {
     "read_only": false
    }
   },
   "outputs": [
    {
     "data": {
      "text/plain": [
       "(255, 0, 0)"
      ]
     },
     "execution_count": 17,
     "metadata": {},
     "output_type": "execute_result"
    }
   ],
   "source": [
    "return_a_clr(0)"
   ]
  },
  {
   "cell_type": "markdown",
   "metadata": {
    "button": false,
    "new_sheet": false,
    "run_control": {
     "read_only": false
    }
   },
   "source": [
    "## Drawing Circles on Image"
   ]
  },
  {
   "cell_type": "code",
   "execution_count": 18,
   "metadata": {
    "button": false,
    "new_sheet": false,
    "run_control": {
     "read_only": false
    }
   },
   "outputs": [],
   "source": [
    "def generate_a_pattern_img(Img,radius,fixed_spacing,my_patterns):\n",
    "    img_arr=np.array(Img)\n",
    "    height=img_arr.shape[0]\n",
    "    width=img_arr.shape[1]\n",
    "    inter_spacing_x=np.int((width- 1*fixed_spacing)/my_patterns.shape[1])\n",
    "    inter_spacing_y=np.int((height - 1*fixed_spacing)/my_patterns.shape[0])\n",
    "\n",
    "    for i in range(my_patterns.shape[0]):\n",
    "        for j in range(my_patterns.shape[1]):\n",
    "            draw_a_circ(Img,radius,(fixed_spacing+ j*inter_spacing_x),(fixed_spacing+ i*inter_spacing_y),return_a_clr(my_patterns[i,j]))\n",
    "\n",
    "           "
   ]
  },
  {
   "cell_type": "code",
   "execution_count": 19,
   "metadata": {
    "button": false,
    "new_sheet": false,
    "run_control": {
     "read_only": false
    }
   },
   "outputs": [],
   "source": [
    "selfimage = Image.new(size=(400,400),mode='RGB')\n",
    "selfimg_arr=np.array(selfimage)\n",
    "generate_a_pattern_img(selfimage,radius=12,fixed_spacing=25,my_patterns=my_patterns)"
   ]
  },
  {
   "cell_type": "code",
   "execution_count": 20,
   "metadata": {
    "button": false,
    "new_sheet": false,
    "run_control": {
     "read_only": false
    }
   },
   "outputs": [
    {
     "data": {
      "image/png": "[encoded data removed]",
      "text/plain": [
       "<Figure size 432x288 with 1 Axes>"
      ]
     },
     "metadata": {
      "needs_background": "light"
     },
     "output_type": "display_data"
    }
   ],
   "source": [
    "plt.imshow(selfimage)\n",
    "selfimage.save('withoutshiftpattern.png')"
   ]
  },
  {
   "cell_type": "code",
   "execution_count": null,
   "metadata": {
    "button": false,
    "new_sheet": false,
    "run_control": {
     "read_only": false
    }
   },
   "outputs": [],
   "source": []
  },
  {
   "cell_type": "markdown",
   "metadata": {
    "button": false,
    "new_sheet": false,
    "run_control": {
     "read_only": false
    }
   },
   "source": [
    "## Finding Total No of Combination for such dots \n"
   ]
  },
  {
   "cell_type": "code",
   "execution_count": 21,
   "metadata": {
    "button": false,
    "new_sheet": false,
    "run_control": {
     "read_only": false
    },
    "scrolled": true
   },
   "outputs": [
    {
     "name": "stdout",
     "output_type": "stream",
     "text": [
      "1\n",
      "2\n",
      "3\n",
      "4\n",
      "5\n",
      "6\n",
      "7\n",
      "8\n",
      "9\n",
      "10\n",
      "11\n",
      "12\n",
      "13\n",
      "14\n",
      "15\n",
      "16\n",
      "17\n",
      "18\n",
      "19\n",
      "20\n",
      "21\n",
      "22\n",
      "23\n",
      "24\n",
      "25\n",
      "26\n",
      "27\n",
      "28\n",
      "29\n",
      "30\n",
      "31\n",
      "32\n",
      "33\n",
      "34\n",
      "35\n",
      "36\n",
      "37\n",
      "38\n",
      "39\n",
      "40\n",
      "41\n",
      "42\n",
      "43\n",
      "44\n",
      "45\n",
      "46\n",
      "47\n",
      "48\n",
      "49\n",
      "50\n",
      "51\n",
      "52\n",
      "53\n",
      "54\n",
      "55\n",
      "56\n",
      "57\n",
      "58\n",
      "59\n",
      "60\n",
      "61\n",
      "62\n",
      "63\n",
      "64\n",
      "65\n",
      "66\n",
      "67\n",
      "68\n",
      "69\n",
      "70\n",
      "71\n",
      "72\n",
      "73\n",
      "74\n",
      "75\n",
      "76\n",
      "77\n",
      "78\n",
      "79\n",
      "80\n",
      "81\n",
      "82\n",
      "83\n",
      "84\n",
      "85\n",
      "86\n",
      "87\n",
      "88\n",
      "89\n",
      "90\n",
      "91\n",
      "92\n",
      "93\n",
      "94\n",
      "95\n",
      "96\n",
      "97\n",
      "98\n",
      "99\n",
      "100\n",
      "101\n",
      "102\n",
      "103\n",
      "104\n",
      "105\n",
      "106\n",
      "107\n",
      "108\n",
      "109\n",
      "110\n",
      "111\n",
      "112\n",
      "113\n",
      "114\n",
      "115\n",
      "116\n",
      "117\n",
      "118\n",
      "119\n",
      "120\n",
      "121\n",
      "122\n",
      "123\n",
      "124\n",
      "125\n",
      "126\n",
      "127\n",
      "128\n",
      "129\n",
      "130\n",
      "131\n",
      "132\n",
      "133\n",
      "134\n",
      "135\n",
      "136\n",
      "137\n",
      "138\n",
      "139\n",
      "140\n",
      "141\n",
      "142\n",
      "143\n",
      "144\n",
      "145\n",
      "146\n",
      "147\n",
      "148\n",
      "149\n",
      "150\n",
      "151\n",
      "152\n",
      "153\n",
      "154\n",
      "155\n",
      "156\n",
      "157\n",
      "158\n",
      "159\n",
      "160\n",
      "161\n",
      "162\n",
      "163\n",
      "164\n",
      "165\n",
      "166\n",
      "167\n",
      "168\n",
      "169\n",
      "170\n",
      "171\n",
      "172\n",
      "173\n",
      "174\n",
      "175\n",
      "176\n",
      "177\n",
      "178\n",
      "179\n",
      "180\n",
      "181\n",
      "182\n",
      "183\n",
      "184\n",
      "185\n",
      "186\n",
      "187\n",
      "188\n",
      "189\n",
      "190\n",
      "191\n",
      "192\n",
      "193\n",
      "194\n",
      "195\n",
      "196\n",
      "197\n",
      "198\n",
      "199\n",
      "200\n",
      "201\n",
      "202\n",
      "203\n",
      "204\n",
      "205\n",
      "206\n",
      "207\n",
      "208\n",
      "209\n",
      "210\n",
      "211\n",
      "212\n",
      "213\n",
      "214\n",
      "215\n",
      "216\n",
      "217\n",
      "218\n",
      "219\n",
      "220\n",
      "221\n",
      "222\n",
      "223\n",
      "224\n",
      "225\n",
      "226\n",
      "227\n",
      "228\n",
      "229\n",
      "230\n",
      "231\n",
      "232\n",
      "233\n",
      "234\n",
      "235\n",
      "236\n",
      "237\n",
      "238\n",
      "239\n",
      "240\n",
      "241\n",
      "242\n",
      "243\n",
      "244\n",
      "245\n",
      "246\n",
      "247\n",
      "248\n",
      "249\n",
      "250\n",
      "251\n",
      "252\n",
      "253\n",
      "254\n",
      "255\n",
      "256\n",
      "257\n",
      "258\n",
      "259\n",
      "260\n",
      "261\n",
      "262\n",
      "263\n",
      "264\n",
      "265\n",
      "266\n",
      "267\n",
      "268\n",
      "269\n",
      "270\n",
      "271\n",
      "272\n",
      "273\n",
      "274\n",
      "275\n",
      "276\n",
      "277\n",
      "278\n",
      "279\n",
      "280\n",
      "281\n",
      "282\n",
      "283\n",
      "284\n",
      "285\n",
      "286\n",
      "287\n",
      "288\n",
      "289\n",
      "290\n",
      "291\n",
      "292\n",
      "293\n",
      "294\n",
      "295\n",
      "296\n",
      "297\n",
      "298\n",
      "299\n",
      "300\n",
      "301\n",
      "302\n",
      "303\n",
      "304\n",
      "305\n",
      "306\n",
      "307\n",
      "308\n",
      "309\n",
      "310\n",
      "311\n",
      "312\n",
      "313\n",
      "314\n",
      "315\n",
      "316\n",
      "317\n",
      "318\n",
      "319\n",
      "320\n",
      "321\n",
      "322\n",
      "323\n",
      "324\n",
      "325\n",
      "326\n",
      "327\n",
      "328\n",
      "329\n",
      "330\n",
      "331\n",
      "332\n",
      "333\n",
      "334\n",
      "335\n",
      "336\n",
      "337\n",
      "338\n",
      "339\n",
      "340\n",
      "341\n",
      "342\n",
      "343\n",
      "344\n",
      "345\n",
      "346\n",
      "347\n",
      "348\n",
      "349\n",
      "350\n",
      "351\n",
      "352\n",
      "353\n",
      "354\n",
      "355\n",
      "356\n",
      "357\n",
      "358\n",
      "359\n",
      "360\n",
      "361\n",
      "362\n",
      "363\n",
      "364\n",
      "365\n",
      "366\n",
      "367\n",
      "368\n",
      "369\n",
      "370\n",
      "371\n",
      "372\n",
      "373\n",
      "374\n",
      "375\n",
      "376\n",
      "377\n",
      "378\n",
      "379\n",
      "380\n",
      "381\n",
      "382\n",
      "383\n",
      "384\n",
      "385\n",
      "386\n",
      "387\n",
      "388\n",
      "389\n",
      "390\n",
      "391\n",
      "392\n",
      "393\n",
      "394\n",
      "395\n",
      "396\n",
      "397\n",
      "398\n",
      "399\n",
      "400\n",
      "401\n",
      "402\n",
      "403\n",
      "404\n",
      "405\n",
      "406\n",
      "407\n",
      "408\n",
      "409\n",
      "410\n",
      "411\n",
      "412\n",
      "413\n",
      "414\n",
      "415\n",
      "416\n",
      "417\n",
      "418\n",
      "419\n",
      "420\n",
      "421\n",
      "422\n",
      "423\n",
      "424\n",
      "425\n",
      "426\n",
      "427\n",
      "428\n",
      "429\n",
      "430\n",
      "431\n",
      "432\n",
      "433\n",
      "434\n",
      "435\n",
      "436\n",
      "437\n",
      "438\n",
      "439\n",
      "440\n",
      "441\n",
      "442\n",
      "443\n",
      "444\n",
      "445\n",
      "446\n",
      "447\n",
      "448\n",
      "449\n",
      "450\n",
      "451\n",
      "452\n",
      "453\n",
      "454\n",
      "455\n",
      "456\n",
      "457\n",
      "458\n",
      "459\n",
      "460\n",
      "461\n",
      "462\n",
      "463\n",
      "464\n",
      "465\n",
      "466\n",
      "467\n",
      "468\n",
      "469\n",
      "470\n",
      "471\n",
      "472\n",
      "473\n",
      "474\n",
      "475\n",
      "476\n",
      "477\n",
      "478\n",
      "479\n",
      "480\n",
      "481\n",
      "482\n",
      "483\n",
      "484\n",
      "485\n",
      "486\n",
      "487\n",
      "488\n",
      "489\n",
      "490\n",
      "491\n",
      "492\n",
      "493\n",
      "494\n",
      "495\n",
      "496\n",
      "497\n",
      "498\n",
      "499\n",
      "500\n",
      "501\n",
      "502\n",
      "503\n",
      "504\n",
      "505\n",
      "506\n",
      "507\n",
      "508\n",
      "509\n",
      "510\n",
      "511\n",
      "512\n",
      "513\n",
      "514\n",
      "515\n",
      "516\n",
      "517\n",
      "518\n",
      "519\n",
      "520\n",
      "521\n",
      "522\n",
      "523\n",
      "524\n",
      "525\n",
      "526\n",
      "527\n",
      "528\n",
      "529\n",
      "530\n",
      "531\n",
      "532\n",
      "533\n",
      "534\n",
      "535\n",
      "536\n",
      "537\n",
      "538\n",
      "539\n",
      "540\n",
      "541\n",
      "542\n",
      "543\n",
      "544\n",
      "545\n",
      "546\n",
      "547\n",
      "548\n",
      "549\n",
      "550\n",
      "551\n",
      "552\n",
      "553\n",
      "554\n",
      "555\n",
      "556\n",
      "557\n",
      "558\n",
      "559\n",
      "560\n",
      "561\n",
      "562\n",
      "563\n",
      "564\n",
      "565\n",
      "566\n",
      "567\n",
      "568\n",
      "569\n",
      "570\n",
      "571\n",
      "572\n",
      "573\n",
      "574\n",
      "575\n",
      "576\n",
      "577\n",
      "578\n",
      "579\n",
      "580\n",
      "581\n",
      "582\n",
      "583\n",
      "584\n",
      "585\n",
      "586\n",
      "587\n",
      "588\n",
      "589\n",
      "590\n",
      "591\n",
      "592\n",
      "593\n",
      "594\n",
      "595\n",
      "596\n",
      "597\n",
      "598\n",
      "599\n",
      "600\n",
      "601\n",
      "602\n",
      "603\n",
      "604\n",
      "605\n",
      "606\n",
      "607\n",
      "608\n",
      "609\n",
      "610\n",
      "611\n",
      "612\n",
      "613\n",
      "614\n",
      "615\n",
      "616\n",
      "617\n",
      "618\n",
      "619\n",
      "620\n",
      "621\n",
      "622\n",
      "623\n",
      "624\n",
      "625\n",
      "626\n",
      "627\n",
      "628\n",
      "629\n",
      "630\n",
      "631\n",
      "632\n",
      "633\n",
      "634\n",
      "635\n",
      "636\n",
      "637\n",
      "638\n",
      "639\n",
      "640\n",
      "641\n",
      "642\n",
      "643\n",
      "644\n",
      "645\n",
      "646\n",
      "647\n",
      "648\n",
      "649\n",
      "650\n",
      "651\n",
      "652\n",
      "653\n",
      "654\n",
      "655\n",
      "656\n",
      "657\n",
      "658\n",
      "659\n",
      "660\n",
      "661\n",
      "662\n",
      "663\n",
      "664\n",
      "665\n",
      "666\n",
      "667\n",
      "668\n",
      "669\n",
      "670\n",
      "671\n",
      "672\n",
      "673\n",
      "674\n",
      "675\n",
      "676\n",
      "677\n",
      "678\n",
      "679\n",
      "680\n",
      "681\n",
      "682\n",
      "683\n",
      "684\n",
      "685\n",
      "686\n",
      "687\n",
      "688\n",
      "689\n",
      "690\n",
      "691\n",
      "692\n",
      "693\n",
      "694\n",
      "695\n",
      "696\n",
      "697\n",
      "698\n",
      "699\n",
      "700\n",
      "701\n",
      "702\n",
      "703\n",
      "704\n",
      "705\n",
      "706\n",
      "707\n",
      "708\n",
      "709\n",
      "710\n",
      "711\n",
      "712\n",
      "713\n",
      "714\n",
      "715\n",
      "716\n",
      "717\n",
      "718\n",
      "719\n",
      "720\n",
      "721\n",
      "722\n",
      "723\n",
      "724\n",
      "725\n",
      "726\n",
      "727\n",
      "728\n",
      "729\n",
      "730\n",
      "731\n",
      "732\n",
      "733\n",
      "734\n",
      "735\n",
      "736\n",
      "737\n",
      "738\n",
      "739\n",
      "740\n",
      "741\n",
      "742\n",
      "743\n",
      "744\n",
      "745\n",
      "746\n",
      "747\n",
      "748\n",
      "749\n",
      "750\n",
      "751\n",
      "752\n",
      "753\n",
      "754\n",
      "755\n",
      "756\n",
      "757\n",
      "758\n",
      "759\n",
      "760\n",
      "761\n",
      "762\n",
      "763\n",
      "764\n",
      "765\n",
      "766\n",
      "767\n",
      "768\n",
      "769\n",
      "770\n",
      "771\n",
      "772\n",
      "773\n",
      "774\n",
      "775\n",
      "776\n",
      "777\n",
      "778\n",
      "779\n",
      "780\n",
      "781\n",
      "782\n",
      "783\n",
      "784\n",
      "785\n",
      "786\n",
      "787\n",
      "788\n",
      "789\n",
      "790\n",
      "791\n",
      "792\n",
      "793\n",
      "794\n",
      "795\n",
      "796\n",
      "797\n",
      "798\n",
      "799\n",
      "800\n",
      "801\n",
      "802\n",
      "803\n",
      "804\n",
      "805\n",
      "806\n",
      "807\n",
      "808\n",
      "809\n",
      "810\n",
      "811\n",
      "812\n",
      "813\n",
      "814\n",
      "815\n",
      "816\n",
      "817\n",
      "818\n",
      "819\n",
      "820\n",
      "821\n",
      "822\n",
      "823\n",
      "824\n",
      "825\n",
      "826\n",
      "827\n",
      "828\n",
      "829\n",
      "830\n",
      "831\n",
      "832\n",
      "833\n",
      "834\n",
      "835\n",
      "836\n",
      "837\n",
      "838\n",
      "839\n",
      "840\n",
      "841\n",
      "842\n",
      "843\n",
      "844\n",
      "845\n",
      "846\n",
      "847\n",
      "848\n",
      "849\n",
      "850\n",
      "851\n",
      "852\n",
      "853\n",
      "854\n",
      "855\n",
      "856\n",
      "857\n",
      "858\n",
      "859\n",
      "860\n",
      "861\n",
      "862\n",
      "863\n",
      "864\n",
      "865\n",
      "866\n",
      "867\n",
      "868\n",
      "869\n",
      "870\n",
      "871\n",
      "872\n",
      "873\n",
      "874\n",
      "875\n",
      "876\n",
      "877\n",
      "878\n",
      "879\n",
      "880\n",
      "881\n",
      "882\n",
      "883\n",
      "884\n",
      "885\n",
      "886\n",
      "887\n",
      "888\n",
      "889\n",
      "890\n",
      "891\n",
      "892\n",
      "893\n",
      "894\n",
      "895\n",
      "896\n",
      "897\n",
      "898\n",
      "899\n",
      "900\n",
      "901\n",
      "902\n",
      "903\n",
      "904\n",
      "905\n",
      "906\n",
      "907\n",
      "908\n",
      "909\n",
      "910\n",
      "911\n",
      "912\n",
      "913\n",
      "914\n",
      "915\n",
      "916\n",
      "917\n",
      "918\n",
      "919\n",
      "920\n",
      "921\n",
      "922\n",
      "923\n",
      "924\n",
      "925\n",
      "926\n",
      "927\n",
      "928\n",
      "929\n",
      "930\n",
      "931\n",
      "932\n",
      "933\n",
      "934\n",
      "935\n",
      "936\n",
      "937\n",
      "938\n",
      "939\n",
      "940\n",
      "941\n",
      "942\n",
      "943\n",
      "944\n",
      "945\n",
      "946\n",
      "947\n",
      "948\n",
      "949\n",
      "950\n",
      "951\n",
      "952\n",
      "953\n",
      "954\n",
      "955\n",
      "956\n",
      "957\n",
      "958\n",
      "959\n",
      "960\n"
     ]
    },
    {
     "ename": "KeyboardInterrupt",
     "evalue": "",
     "output_type": "error",
     "traceback": [
      "\u001b[0;31m---------------------------------------------------------------------------\u001b[0m",
      "\u001b[0;31mKeyboardInterrupt\u001b[0m                         Traceback (most recent call last)",
      "\u001b[0;32m<ipython-input-21-414ad268b252>\u001b[0m in \u001b[0;36m<module>\u001b[0;34m\u001b[0m\n\u001b[1;32m     22\u001b[0m         \u001b[0;31m#print(random_array)\u001b[0m\u001b[0;34m\u001b[0m\u001b[0;34m\u001b[0m\u001b[0;34m\u001b[0m\u001b[0m\n\u001b[1;32m     23\u001b[0m         \u001b[0;31m#print(np.array(total_combs))\u001b[0m\u001b[0;34m\u001b[0m\u001b[0;34m\u001b[0m\u001b[0;34m\u001b[0m\u001b[0m\n\u001b[0;32m---> 24\u001b[0;31m         \u001b[0;32mwhile\u001b[0m\u001b[0;34m(\u001b[0m\u001b[0mtell_unique_array\u001b[0m\u001b[0;34m(\u001b[0m\u001b[0mrandom_array\u001b[0m\u001b[0;34m,\u001b[0m\u001b[0mnp\u001b[0m\u001b[0;34m.\u001b[0m\u001b[0marray\u001b[0m\u001b[0;34m(\u001b[0m\u001b[0mtotal_combs\u001b[0m\u001b[0;34m)\u001b[0m\u001b[0;34m)\u001b[0m\u001b[0;34m!=\u001b[0m\u001b[0;32mTrue\u001b[0m\u001b[0;34m)\u001b[0m\u001b[0;34m:\u001b[0m\u001b[0;34m\u001b[0m\u001b[0;34m\u001b[0m\u001b[0m\n\u001b[0m\u001b[1;32m     25\u001b[0m             \u001b[0;31m#print('while loop')\u001b[0m\u001b[0;34m\u001b[0m\u001b[0;34m\u001b[0m\u001b[0;34m\u001b[0m\u001b[0m\n\u001b[1;32m     26\u001b[0m             \u001b[0mtemp_arr\u001b[0m\u001b[0;34m=\u001b[0m\u001b[0mnp\u001b[0m\u001b[0;34m.\u001b[0m\u001b[0mrandom\u001b[0m\u001b[0;34m.\u001b[0m\u001b[0mrandint\u001b[0m\u001b[0;34m(\u001b[0m\u001b[0;36m4\u001b[0m\u001b[0;34m,\u001b[0m\u001b[0msize\u001b[0m\u001b[0;34m=\u001b[0m\u001b[0;36m3\u001b[0m\u001b[0;34m)\u001b[0m\u001b[0;34m\u001b[0m\u001b[0;34m\u001b[0m\u001b[0m\n",
      "\u001b[0;32m<ipython-input-5-a8aeb3115f00>\u001b[0m in \u001b[0;36mtell_unique_array\u001b[0;34m(random_arr, old_arrs)\u001b[0m\n\u001b[1;32m      4\u001b[0m \u001b[0;32mdef\u001b[0m \u001b[0mtell_unique_array\u001b[0m\u001b[0;34m(\u001b[0m\u001b[0mrandom_arr\u001b[0m\u001b[0;34m,\u001b[0m\u001b[0mold_arrs\u001b[0m\u001b[0;34m)\u001b[0m\u001b[0;34m:\u001b[0m\u001b[0;34m\u001b[0m\u001b[0;34m\u001b[0m\u001b[0m\n\u001b[1;32m      5\u001b[0m     \u001b[0;32mfor\u001b[0m \u001b[0mArr\u001b[0m \u001b[0;32min\u001b[0m \u001b[0mold_arrs\u001b[0m\u001b[0;34m:\u001b[0m\u001b[0;34m\u001b[0m\u001b[0;34m\u001b[0m\u001b[0m\n\u001b[0;32m----> 6\u001b[0;31m         \u001b[0mcircshiftinvar\u001b[0m\u001b[0;34m(\u001b[0m\u001b[0mArr\u001b[0m\u001b[0;34m,\u001b[0m\u001b[0mrandom_arr\u001b[0m\u001b[0;34m)\u001b[0m\u001b[0;34m\u001b[0m\u001b[0;34m\u001b[0m\u001b[0m\n\u001b[0m\u001b[1;32m      7\u001b[0m     \u001b[0;32mif\u001b[0m \u001b[0mno_of_matchings\u001b[0m\u001b[0;34m>\u001b[0m\u001b[0;36m0\u001b[0m\u001b[0;34m:\u001b[0m\u001b[0;34m\u001b[0m\u001b[0;34m\u001b[0m\u001b[0m\n\u001b[1;32m      8\u001b[0m          \u001b[0;32mreturn\u001b[0m \u001b[0;32mFalse\u001b[0m \u001b[0;31m#False if matched found and the grid is not unique and cannot be used\u001b[0m\u001b[0;34m\u001b[0m\u001b[0;34m\u001b[0m\u001b[0m\n",
      "\u001b[0;32m<ipython-input-4-dc25d1ba9a94>\u001b[0m in \u001b[0;36mcircshiftinvar\u001b[0;34m(arr1, arr2)\u001b[0m\n\u001b[1;32m      6\u001b[0m     \u001b[0;32mfor\u001b[0m \u001b[0mi\u001b[0m \u001b[0;32min\u001b[0m \u001b[0mrange\u001b[0m\u001b[0;34m(\u001b[0m\u001b[0mlen\u001b[0m\u001b[0;34m(\u001b[0m\u001b[0marr1\u001b[0m\u001b[0;34m)\u001b[0m\u001b[0;34m-\u001b[0m\u001b[0;36m1\u001b[0m\u001b[0;34m)\u001b[0m\u001b[0;34m:\u001b[0m\u001b[0;34m\u001b[0m\u001b[0;34m\u001b[0m\u001b[0m\n\u001b[1;32m      7\u001b[0m         \u001b[0mfirstColor\u001b[0m\u001b[0;34m=\u001b[0m\u001b[0marr1\u001b[0m\u001b[0;34m[\u001b[0m\u001b[0;36m0\u001b[0m\u001b[0;34m]\u001b[0m\u001b[0;34m\u001b[0m\u001b[0;34m\u001b[0m\u001b[0m\n\u001b[0;32m----> 8\u001b[0;31m         \u001b[0mtempArr\u001b[0m\u001b[0;34m=\u001b[0m\u001b[0mnp\u001b[0m\u001b[0;34m.\u001b[0m\u001b[0minsert\u001b[0m\u001b[0;34m(\u001b[0m\u001b[0mnp\u001b[0m\u001b[0;34m.\u001b[0m\u001b[0mroll\u001b[0m\u001b[0;34m(\u001b[0m\u001b[0marr1\u001b[0m\u001b[0;34m[\u001b[0m\u001b[0;36m1\u001b[0m\u001b[0;34m:\u001b[0m\u001b[0;34m]\u001b[0m\u001b[0;34m,\u001b[0m\u001b[0mi\u001b[0m\u001b[0;34m)\u001b[0m\u001b[0;34m,\u001b[0m\u001b[0;36m0\u001b[0m\u001b[0;34m,\u001b[0m\u001b[0marr1\u001b[0m\u001b[0;34m[\u001b[0m\u001b[0;36m0\u001b[0m\u001b[0;34m]\u001b[0m\u001b[0;34m)\u001b[0m \u001b[0;31m#circular wraping the coded array except for 0th index no\u001b[0m\u001b[0;34m\u001b[0m\u001b[0;34m\u001b[0m\u001b[0m\n\u001b[0m\u001b[1;32m      9\u001b[0m         \u001b[0;32mif\u001b[0m\u001b[0;34m(\u001b[0m\u001b[0mnp\u001b[0m\u001b[0;34m.\u001b[0m\u001b[0marray_equal\u001b[0m\u001b[0;34m(\u001b[0m\u001b[0mtempArr\u001b[0m\u001b[0;34m,\u001b[0m\u001b[0marr2\u001b[0m\u001b[0;34m)\u001b[0m\u001b[0;34m)\u001b[0m\u001b[0;34m:\u001b[0m\u001b[0;34m\u001b[0m\u001b[0;34m\u001b[0m\u001b[0m\n\u001b[1;32m     10\u001b[0m             \u001b[0mmatched\u001b[0m\u001b[0;34m=\u001b[0m\u001b[0;32mTrue\u001b[0m\u001b[0;34m\u001b[0m\u001b[0;34m\u001b[0m\u001b[0m\n",
      "\u001b[0;31mKeyboardInterrupt\u001b[0m: "
     ]
    }
   ],
   "source": [
    "total_combs=[] ## 2-D array list containing all possible patterns (1-D array)\n",
    "first_run=True\n",
    "x0,x1,x2,x3,x4,x5,x6,x7,x8=0,0,0,0,0,0,0,0,0\n",
    "total_comb_count=0\n",
    "no_of_matchings=0\n",
    "while(True):\n",
    "    if(first_run):\n",
    "        new_arr=np.random.randint(4,size=9)\n",
    "        x2,x3,x4 = new_arr[0:3] \n",
    "        x1,x0,x5 = new_arr[3:6]\n",
    "        x8,x7,x6 = new_arr[6:]\n",
    "        total_combs.append(np.array([x0,x1,x2,x3,x4,x5,x6,x7,x8]))\n",
    "        total_comb_count+=1\n",
    "        print(total_comb_count)\n",
    "        first_run=False\n",
    "    else:\n",
    "        temp_arr=np.random.randint(4,size=3)\n",
    "        x8,x7,x6 = x1,x0,x5 #filling in rows with fixed cols(vertically)\n",
    "        x1,x0,x5 = x2,x3,x4 \n",
    "        x2,x3,x4 = temp_arr\n",
    "        random_array=np.array([x0,x1,x2,x3,x4,x5,x6,x7,x8],dtype=np.uint64)\n",
    "        #print(random_array)\n",
    "        #print(np.array(total_combs))\n",
    "        while(tell_unique_array(random_array,np.array(total_combs))!=True):\n",
    "            #print('while loop')\n",
    "            temp_arr=np.random.randint(4,size=3)\n",
    "            x2,x3,x4 = temp_arr\n",
    "            random_array=np.array([x0,x1,x2,x3,x4,x5,x6,x7,x8],dtype=np.uint64)\n",
    "            no_of_matchings=0\n",
    "            #print(random_array)\n",
    "        total_combs.append(random_array)\n",
    "        total_comb_count+=1\n",
    "        print(total_comb_count)\n",
    "        "
   ]
  },
  {
   "cell_type": "code",
   "execution_count": null,
   "metadata": {
    "button": false,
    "collapsed": true,
    "new_sheet": false,
    "run_control": {
     "read_only": false
    }
   },
   "outputs": [],
   "source": [
    "# no_of_matchings=0\n",
    "# for j in range(1,new_pattern.shape[1]-1):\n",
    "#     #print(j)\n",
    "#     temp_arr=np.random.randint(4,size=3)\n",
    "#     x8,x1,x2 = new_pattern[7,j-1:j+2] #filling in fixed rows horizontally\n",
    "#     x7,x0,x3 = new_pattern[8,j-1:j+2]\n",
    "#     x6,x5,x4 = temp_arr\n",
    "#     random_array=np.array([x0,x1,x2,x3,x4,x5,x6,x7,x8],dtype=np.uint64)\n",
    "#     #print(random_array)\n",
    "#     while(tell_unique_array(random_array,hello)!=True):\n",
    "#         temp_arr=np.random.randint(4,size=3)\n",
    "#         x6,x5,x4 = temp_arr\n",
    "#         random_array=np.array([x0,x1,x2,x3,x4,x5,x6,x7,x8])\n",
    "#         #print(random_array)\n",
    "#         #print('im stuck')\n",
    "#     hello.tolist().append(random_array)\n",
    "#     new_pattern[9,j-1:j+2]=temp_arr"
   ]
  },
  {
   "cell_type": "code",
   "execution_count": null,
   "metadata": {
    "button": false,
    "collapsed": true,
    "new_sheet": false,
    "run_control": {
     "read_only": false
    }
   },
   "outputs": [],
   "source": [
    "# new_pattern[0:9]=my_patterns[1:10]\n",
    "# new_pattern"
   ]
  },
  {
   "cell_type": "code",
   "execution_count": null,
   "metadata": {
    "button": false,
    "collapsed": true,
    "new_sheet": false,
    "run_control": {
     "read_only": false
    }
   },
   "outputs": [],
   "source": [
    "# selfimage_shifted = Image.new(size=(400,400),mode='RGB')\n",
    "# selfimg_arr_shifted=np.array(selfimage)\n",
    "# generate_a_pattern_img(selfimage_shifted,radius=12,fixed_spacing=25,my_patterns=new_pattern)\n",
    "# selfimage_shifted.save('shiftedpattern.png')\n",
    "# plt.subplot(121)\n",
    "# plt.imshow(selfimage)\n",
    "# plt.subplot(122)\n",
    "# plt.imshow(selfimage_shifted)"
   ]
  },
  {
   "cell_type": "code",
   "execution_count": null,
   "metadata": {
    "button": false,
    "collapsed": true,
    "new_sheet": false,
    "run_control": {
     "read_only": false
    }
   },
   "outputs": [],
   "source": []
  }
 ],
 "metadata": {
  "kernelspec": {
   "display_name": "Python 3",
   "language": "python",
   "name": "python3"
  },
  "language_info": {
   "codemirror_mode": {
    "name": "ipython",
    "version": 3
   },
   "file_extension": ".py",
   "mimetype": "text/x-python",
   "name": "python",
   "nbconvert_exporter": "python",
   "pygments_lexer": "ipython3",
   "version": "3.7.4"
  }
 },
 "nbformat": 4,
 "nbformat_minor": 4
}
